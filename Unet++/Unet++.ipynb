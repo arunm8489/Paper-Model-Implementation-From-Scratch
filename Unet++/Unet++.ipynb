{
  "nbformat": 4,
  "nbformat_minor": 0,
  "metadata": {
    "colab": {
      "name": "Unet++.ipynb",
      "provenance": []
    },
    "kernelspec": {
      "name": "python3",
      "display_name": "Python 3"
    }
  },
  "cells": [
    {
      "cell_type": "code",
      "metadata": {
        "id": "EzOZlN3XmPGd"
      },
      "source": [
        "import numpy as np\n",
        "import torch.nn as nn\n",
        "import torch.nn.functional as F\n",
        "import pandas as pd\n",
        "import torch\n",
        "import matplotlib.pyplot as plt"
      ],
      "execution_count": 2,
      "outputs": []
    },
    {
      "cell_type": "code",
      "metadata": {
        "id": "8_VtblZGmgBe"
      },
      "source": [
        "class Stdinp(nn.Module):\n",
        "  def __init__(self,in_ch,out_ch,k_size=(3,3)):\n",
        "    super().__init__()\n",
        "    self.conv1 = nn.Conv2d(in_channels=in_ch,out_channels=out_ch,kernel_size=k_size,padding=1)\n",
        "    self.dropout = nn.Dropout(0.2)\n",
        "    self.conv2 = nn.Conv2d(in_channels=out_ch,out_channels=out_ch,kernel_size=k_size,padding=1)\n",
        "\n",
        "  def forward(self,x):\n",
        "    x = F.relu(self.conv1(x))\n",
        "    x = self.dropout(x)\n",
        "    x = F.relu(self. conv2(x))\n",
        "    x = self.dropout(x)\n",
        "    return x\n"
      ],
      "execution_count": 3,
      "outputs": []
    },
    {
      "cell_type": "code",
      "metadata": {
        "id": "3-2Wy66zwqcr"
      },
      "source": [
        "class Unetplus(nn.Module):\n",
        "  def __init__(self,num_classes,deep_supervision=True):\n",
        "    super().__init__()\n",
        "    self.channels = [32,64,128,256,512]\n",
        "    self.num_classes = num_classes\n",
        "    self.deep_supervision = deep_supervision\n",
        "    self.maxpool = nn.MaxPool2d(stride=2,kernel_size=(2,2))\n",
        "    self.conv11 = Stdinp(in_ch=3,out_ch=self.channels[0],k_size=(3,3))\n",
        "    self.conv21 = Stdinp(in_ch=self.channels[0],out_ch=self.channels[1],k_size=(3,3))\n",
        "    self.conv31 = Stdinp(in_ch=self.channels[1],out_ch=self.channels[2],k_size=(3,3))\n",
        "    self.conv41 = Stdinp(in_ch=self.channels[2],out_ch=self.channels[3],k_size=(3,3))\n",
        "    self.conv51 = Stdinp(in_ch=self.channels[3],out_ch=self.channels[4],k_size=(3,3))\n",
        "\n",
        "    self.tconv2 = nn.ConvTranspose2d(in_channels=self.channels[1],out_channels=self.channels[1],kernel_size=2,stride=2)\n",
        "    self.tconv3 = nn.ConvTranspose2d(in_channels=self.channels[2],out_channels=self.channels[2],kernel_size=2,stride=2)\n",
        "    self.tconv4 = nn.ConvTranspose2d(in_channels=self.channels[3],out_channels=self.channels[3],kernel_size=2,stride=2)\n",
        "    self.tconv5 = nn.ConvTranspose2d(in_channels=self.channels[4],out_channels=self.channels[4],kernel_size=2,stride=2)\n",
        "\n",
        "    self.conv12 = Stdinp(in_ch=self.channels[0]+self.channels[1],out_ch=self.channels[0],k_size=(3,3))\n",
        "    self.conv22 = Stdinp(in_ch=self.channels[1]+self.channels[2],out_ch=self.channels[1],k_size=(3,3))\n",
        "    self.conv32 = Stdinp(in_ch=self.channels[2]+self.channels[3],out_ch=self.channels[2],k_size=(3,3))\n",
        "    self.conv42 = Stdinp(in_ch=self.channels[3]+self.channels[4],out_ch=self.channels[3],k_size=(3,3))\n",
        "\n",
        "    self.conv13 = Stdinp(in_ch=self.channels[0]+self.channels[0]+self.channels[1],out_ch=self.channels[0],k_size=(3,3))\n",
        "    self.conv23 = Stdinp(in_ch=self.channels[1]+self.channels[1]+self.channels[2],out_ch=self.channels[1],k_size=(3,3))\n",
        "    self.conv33 = Stdinp(in_ch=self.channels[2]+self.channels[2]+self.channels[3],out_ch=self.channels[2],k_size=(3,3))\n",
        "\n",
        "    self.conv14 = Stdinp(in_ch=(self.channels[0]*3)+self.channels[1],out_ch=self.channels[0],k_size=(3,3))\n",
        "    self.conv24 = Stdinp(in_ch=(self.channels[1]*3)+self.channels[2],out_ch=self.channels[1],k_size=(3,3))\n",
        "\n",
        "    self.conv15 = Stdinp(in_ch=(self.channels[0]*4)+self.channels[1],out_ch=self.channels[0],k_size=(3,3))\n",
        "\n",
        "    self.convf = nn.Conv2d(in_channels=self.channels[0],out_channels=self.num_classes,kernel_size=(1,1))\n",
        "\n",
        "    \n",
        "\n",
        "  def forward(self,x):\n",
        "    x_11 = self.conv11(x)  #3 - 32\n",
        "    pool1 = self.maxpool(x_11)\n",
        "    x_21 = self.conv21(pool1) \n",
        "    pool2 = self.maxpool(x_21)\n",
        "    x_31 = self.conv31(pool2) \n",
        "    pool3 = self.maxpool(x_31)\n",
        "    x_41 = self.conv41(pool3) \n",
        "    pool4 = self.maxpool(x_41)\n",
        "    x_51 = self.conv51(pool4)\n",
        "\n",
        "    # second parallel layer\n",
        "    up_21 = self.tconv2(x_21)  #64\n",
        "    up_21_cat = torch.cat([x_11,up_21],axis=1)  #32+64 - \n",
        "    x_12 = self.conv12(up_21_cat)\n",
        "\n",
        "    up_31 = self.tconv3(x_31)\n",
        "    up_31_cat = torch.cat([x_21,up_31],axis=1)\n",
        "    x_22 = self.conv22(up_31_cat)\n",
        "\n",
        "    up_41 = self.tconv4(x_41)\n",
        "    up_41_cat = torch.cat([x_31,up_41],axis=1)\n",
        "    x_32 = self.conv32(up_41_cat)\n",
        "\n",
        "    up_51 = self.tconv5(x_51)\n",
        "    up_51_cat = torch.cat([x_41,up_51],axis=1)\n",
        "    x_42 = self.conv42(up_51_cat)\n",
        "\n",
        "    #3rd parallel layer\n",
        "    up_22 = self.tconv2(x_22)\n",
        "    up_22_cat = torch.cat([x_11,x_12,up_22],axis=1)\n",
        "    x_13 = self.conv13(up_22_cat)\n",
        "\n",
        "    up_32 = self.tconv3(x_32)\n",
        "    up_32_cat = torch.cat([x_21,x_22,up_32],axis=1)\n",
        "    x_23 = self.conv23(up_32_cat)\n",
        "\n",
        "    up_42 = self.tconv4(x_42)\n",
        "    up_42_cat = torch.cat([x_31,x_32,up_42],axis=1)\n",
        "    x_33 = self.conv33(up_42_cat)\n",
        "\n",
        "    #4th parallel layer\n",
        "    up_23 = self.tconv2(x_23)\n",
        "    up_23_cat = torch.cat([x_11,x_12,x_13,up_23],axis=1)\n",
        "    x_14 = self.conv14(up_23_cat)\n",
        "\n",
        "    up_33 = self.tconv3(x_33)\n",
        "    up_33_cat = torch.cat([x_21,x_22,x_23,up_33],axis=1)\n",
        "    x_24 = self.conv24(up_33_cat)\n",
        "\n",
        "    # 5th parallel layer\n",
        "    up_24 = self.tconv2(x_24)\n",
        "    u_24_cat = torch.cat([x_11,x_12,x_13,x_14,up_24],axis=1)\n",
        "    x_15 = self.conv15(u_24_cat)\n",
        "\n",
        "    nest_out1,nest_out2,nest_out3,nest_out4 = self.convf(x_12),self.convf(x_13),self.convf(x_14),self.convf(x_15)\n",
        "\n",
        "    if self.deep_supervision:\n",
        "      output = [nest_out1,nest_out2,nest_out3,nest_out4]\n",
        "\n",
        "    else:\n",
        "      output = nest_out5\n",
        "\n",
        "    return output"
      ],
      "execution_count": 4,
      "outputs": []
    },
    {
      "cell_type": "code",
      "metadata": {
        "colab": {
          "base_uri": "https://localhost:8080/"
        },
        "id": "rAmTpETBr0mH",
        "outputId": "4d690015-4e29-4b7e-c2e2-2ccf8233a24d"
      },
      "source": [
        "model = Unetplus(num_classes=1)\n",
        "model"
      ],
      "execution_count": 5,
      "outputs": [
        {
          "output_type": "execute_result",
          "data": {
            "text/plain": [
              "Unetplus(\n",
              "  (maxpool): MaxPool2d(kernel_size=(2, 2), stride=2, padding=0, dilation=1, ceil_mode=False)\n",
              "  (conv11): Stdinp(\n",
              "    (conv1): Conv2d(3, 32, kernel_size=(3, 3), stride=(1, 1), padding=(1, 1))\n",
              "    (dropout): Dropout(p=0.2, inplace=False)\n",
              "    (conv2): Conv2d(32, 32, kernel_size=(3, 3), stride=(1, 1), padding=(1, 1))\n",
              "  )\n",
              "  (conv21): Stdinp(\n",
              "    (conv1): Conv2d(32, 64, kernel_size=(3, 3), stride=(1, 1), padding=(1, 1))\n",
              "    (dropout): Dropout(p=0.2, inplace=False)\n",
              "    (conv2): Conv2d(64, 64, kernel_size=(3, 3), stride=(1, 1), padding=(1, 1))\n",
              "  )\n",
              "  (conv31): Stdinp(\n",
              "    (conv1): Conv2d(64, 128, kernel_size=(3, 3), stride=(1, 1), padding=(1, 1))\n",
              "    (dropout): Dropout(p=0.2, inplace=False)\n",
              "    (conv2): Conv2d(128, 128, kernel_size=(3, 3), stride=(1, 1), padding=(1, 1))\n",
              "  )\n",
              "  (conv41): Stdinp(\n",
              "    (conv1): Conv2d(128, 256, kernel_size=(3, 3), stride=(1, 1), padding=(1, 1))\n",
              "    (dropout): Dropout(p=0.2, inplace=False)\n",
              "    (conv2): Conv2d(256, 256, kernel_size=(3, 3), stride=(1, 1), padding=(1, 1))\n",
              "  )\n",
              "  (conv51): Stdinp(\n",
              "    (conv1): Conv2d(256, 512, kernel_size=(3, 3), stride=(1, 1), padding=(1, 1))\n",
              "    (dropout): Dropout(p=0.2, inplace=False)\n",
              "    (conv2): Conv2d(512, 512, kernel_size=(3, 3), stride=(1, 1), padding=(1, 1))\n",
              "  )\n",
              "  (tconv2): ConvTranspose2d(64, 64, kernel_size=(2, 2), stride=(2, 2))\n",
              "  (tconv3): ConvTranspose2d(128, 128, kernel_size=(2, 2), stride=(2, 2))\n",
              "  (tconv4): ConvTranspose2d(256, 256, kernel_size=(2, 2), stride=(2, 2))\n",
              "  (tconv5): ConvTranspose2d(512, 512, kernel_size=(2, 2), stride=(2, 2))\n",
              "  (conv12): Stdinp(\n",
              "    (conv1): Conv2d(96, 32, kernel_size=(3, 3), stride=(1, 1), padding=(1, 1))\n",
              "    (dropout): Dropout(p=0.2, inplace=False)\n",
              "    (conv2): Conv2d(32, 32, kernel_size=(3, 3), stride=(1, 1), padding=(1, 1))\n",
              "  )\n",
              "  (conv22): Stdinp(\n",
              "    (conv1): Conv2d(192, 64, kernel_size=(3, 3), stride=(1, 1), padding=(1, 1))\n",
              "    (dropout): Dropout(p=0.2, inplace=False)\n",
              "    (conv2): Conv2d(64, 64, kernel_size=(3, 3), stride=(1, 1), padding=(1, 1))\n",
              "  )\n",
              "  (conv32): Stdinp(\n",
              "    (conv1): Conv2d(384, 128, kernel_size=(3, 3), stride=(1, 1), padding=(1, 1))\n",
              "    (dropout): Dropout(p=0.2, inplace=False)\n",
              "    (conv2): Conv2d(128, 128, kernel_size=(3, 3), stride=(1, 1), padding=(1, 1))\n",
              "  )\n",
              "  (conv42): Stdinp(\n",
              "    (conv1): Conv2d(768, 256, kernel_size=(3, 3), stride=(1, 1), padding=(1, 1))\n",
              "    (dropout): Dropout(p=0.2, inplace=False)\n",
              "    (conv2): Conv2d(256, 256, kernel_size=(3, 3), stride=(1, 1), padding=(1, 1))\n",
              "  )\n",
              "  (conv13): Stdinp(\n",
              "    (conv1): Conv2d(128, 32, kernel_size=(3, 3), stride=(1, 1), padding=(1, 1))\n",
              "    (dropout): Dropout(p=0.2, inplace=False)\n",
              "    (conv2): Conv2d(32, 32, kernel_size=(3, 3), stride=(1, 1), padding=(1, 1))\n",
              "  )\n",
              "  (conv23): Stdinp(\n",
              "    (conv1): Conv2d(256, 64, kernel_size=(3, 3), stride=(1, 1), padding=(1, 1))\n",
              "    (dropout): Dropout(p=0.2, inplace=False)\n",
              "    (conv2): Conv2d(64, 64, kernel_size=(3, 3), stride=(1, 1), padding=(1, 1))\n",
              "  )\n",
              "  (conv33): Stdinp(\n",
              "    (conv1): Conv2d(512, 128, kernel_size=(3, 3), stride=(1, 1), padding=(1, 1))\n",
              "    (dropout): Dropout(p=0.2, inplace=False)\n",
              "    (conv2): Conv2d(128, 128, kernel_size=(3, 3), stride=(1, 1), padding=(1, 1))\n",
              "  )\n",
              "  (conv14): Stdinp(\n",
              "    (conv1): Conv2d(160, 32, kernel_size=(3, 3), stride=(1, 1), padding=(1, 1))\n",
              "    (dropout): Dropout(p=0.2, inplace=False)\n",
              "    (conv2): Conv2d(32, 32, kernel_size=(3, 3), stride=(1, 1), padding=(1, 1))\n",
              "  )\n",
              "  (conv24): Stdinp(\n",
              "    (conv1): Conv2d(320, 64, kernel_size=(3, 3), stride=(1, 1), padding=(1, 1))\n",
              "    (dropout): Dropout(p=0.2, inplace=False)\n",
              "    (conv2): Conv2d(64, 64, kernel_size=(3, 3), stride=(1, 1), padding=(1, 1))\n",
              "  )\n",
              "  (conv15): Stdinp(\n",
              "    (conv1): Conv2d(192, 32, kernel_size=(3, 3), stride=(1, 1), padding=(1, 1))\n",
              "    (dropout): Dropout(p=0.2, inplace=False)\n",
              "    (conv2): Conv2d(32, 32, kernel_size=(3, 3), stride=(1, 1), padding=(1, 1))\n",
              "  )\n",
              "  (convf): Conv2d(32, 1, kernel_size=(1, 1), stride=(1, 1))\n",
              ")"
            ]
          },
          "metadata": {
            "tags": []
          },
          "execution_count": 5
        }
      ]
    },
    {
      "cell_type": "code",
      "metadata": {
        "colab": {
          "base_uri": "https://localhost:8080/"
        },
        "id": "DLCf8U1unHN1",
        "outputId": "06725291-4d7f-4f5c-8b18-7c05806a9ecb"
      },
      "source": [
        "inp = torch.randint(0,255,size=(3,256,256)).unsqueeze(dim=0).float()\n",
        "inp.shape"
      ],
      "execution_count": 6,
      "outputs": [
        {
          "output_type": "execute_result",
          "data": {
            "text/plain": [
              "torch.Size([1, 3, 256, 256])"
            ]
          },
          "metadata": {
            "tags": []
          },
          "execution_count": 6
        }
      ]
    },
    {
      "cell_type": "code",
      "metadata": {
        "id": "Fw0WyZpQomU3"
      },
      "source": [
        "out = model(inp)"
      ],
      "execution_count": 7,
      "outputs": []
    },
    {
      "cell_type": "code",
      "metadata": {
        "id": "DdafPYDromwO",
        "colab": {
          "base_uri": "https://localhost:8080/"
        },
        "outputId": "e75dac4b-7950-4ace-9084-b762fc9cfd23"
      },
      "source": [
        "for i in out:\n",
        "  print(i.shape)"
      ],
      "execution_count": 8,
      "outputs": [
        {
          "output_type": "stream",
          "text": [
            "torch.Size([1, 1, 256, 256])\n",
            "torch.Size([1, 1, 256, 256])\n",
            "torch.Size([1, 1, 256, 256])\n",
            "torch.Size([1, 1, 256, 256])\n"
          ],
          "name": "stdout"
        }
      ]
    },
    {
      "cell_type": "code",
      "metadata": {
        "id": "3r4Q53Djobyg"
      },
      "source": [
        ""
      ],
      "execution_count": null,
      "outputs": []
    },
    {
      "cell_type": "code",
      "metadata": {
        "id": "EdFFpMdBob0w"
      },
      "source": [
        ""
      ],
      "execution_count": null,
      "outputs": []
    },
    {
      "cell_type": "code",
      "metadata": {
        "id": "tWyP10uJob4y"
      },
      "source": [
        ""
      ],
      "execution_count": null,
      "outputs": []
    },
    {
      "cell_type": "code",
      "metadata": {
        "id": "EYSQSoIWnHPs"
      },
      "source": [
        ""
      ],
      "execution_count": null,
      "outputs": []
    },
    {
      "cell_type": "code",
      "metadata": {
        "id": "ag9Bh_b8nHR7"
      },
      "source": [
        ""
      ],
      "execution_count": null,
      "outputs": []
    },
    {
      "cell_type": "code",
      "metadata": {
        "id": "lxVnPSCZnHVY"
      },
      "source": [
        ""
      ],
      "execution_count": null,
      "outputs": []
    }
  ]
}