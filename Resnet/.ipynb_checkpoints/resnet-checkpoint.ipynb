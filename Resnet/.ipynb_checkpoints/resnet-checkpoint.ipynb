{
 "cells": [
  {
   "cell_type": "code",
   "execution_count": 1,
   "metadata": {
    "id": "2GQFG5vqd4QY"
   },
   "outputs": [
    {
     "ename": "ModuleNotFoundError",
     "evalue": "No module named 'torch'",
     "output_type": "error",
     "traceback": [
      "\u001b[0;31m---------------------------------------------------------------------------\u001b[0m",
      "\u001b[0;31mModuleNotFoundError\u001b[0m                       Traceback (most recent call last)",
      "\u001b[0;32m<ipython-input-1-f7303aa8f55a>\u001b[0m in \u001b[0;36m<module>\u001b[0;34m\u001b[0m\n\u001b[0;32m----> 1\u001b[0;31m \u001b[0;32mimport\u001b[0m \u001b[0mtorch\u001b[0m\u001b[0;34m.\u001b[0m\u001b[0mnn\u001b[0m \u001b[0;32mas\u001b[0m \u001b[0mnn\u001b[0m\u001b[0;34m\u001b[0m\u001b[0;34m\u001b[0m\u001b[0m\n\u001b[0m\u001b[1;32m      2\u001b[0m \u001b[0;32mimport\u001b[0m \u001b[0mtorch\u001b[0m\u001b[0;34m\u001b[0m\u001b[0;34m\u001b[0m\u001b[0m\n\u001b[1;32m      3\u001b[0m \u001b[0;32mimport\u001b[0m \u001b[0mnumpy\u001b[0m \u001b[0;32mas\u001b[0m \u001b[0mnp\u001b[0m\u001b[0;34m\u001b[0m\u001b[0;34m\u001b[0m\u001b[0m\n\u001b[1;32m      4\u001b[0m \u001b[0;32mimport\u001b[0m \u001b[0mtorch\u001b[0m\u001b[0;34m.\u001b[0m\u001b[0mnn\u001b[0m\u001b[0;34m.\u001b[0m\u001b[0mfunctional\u001b[0m \u001b[0;32mas\u001b[0m \u001b[0mF\u001b[0m\u001b[0;34m\u001b[0m\u001b[0;34m\u001b[0m\u001b[0m\n",
      "\u001b[0;31mModuleNotFoundError\u001b[0m: No module named 'torch'"
     ]
    }
   ],
   "source": [
    "import torch.nn as nn\n",
    "import torch\n",
    "import numpy as np\n",
    "import torch.nn.functional as F"
   ]
  },
  {
   "cell_type": "markdown",
   "metadata": {
    "id": "DWDEGzYtVeGx"
   },
   "source": [
    "![image.png](data:image/png;base64,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)"
   ]
  },
  {
   "cell_type": "code",
   "execution_count": null,
   "metadata": {},
   "outputs": [
    {
     "name": "stdout",
     "output_type": "stream",
     "text": [
      "\u001b[33mWARNING: Keyring is skipped due to an exception: Failed to unlock the collection!\u001b[0m\n",
      "\u001b[33mWARNING: Keyring is skipped due to an exception: Failed to unlock the collection!\u001b[0m\n",
      "Collecting torch\n",
      "\u001b[33m  WARNING: Keyring is skipped due to an exception: Failed to unlock the collection!\u001b[0m\n",
      "\u001b[?25l  Downloading https://files.pythonhosted.org/packages/d9/74/d52c014fbfb50aefc084d2bf5ffaa0a8456f69c586782b59f93ef45e2da9/torch-1.7.0-cp37-cp37m-manylinux1_x86_64.whl (776.7MB)\n",
      "\u001b[K     |██▊                             | 67.3MB 343kB/s eta 0:34:26"
     ]
    }
   ],
   "source": [
    "!pip install torch"
   ]
  },
  {
   "cell_type": "markdown",
   "metadata": {
    "id": "MVIcouGBzQ5_"
   },
   "source": [
    "Most of the variants of resnets consist of\n",
    "\n",
    "* A convolution block (Conv -> BN -> ReLU -> MaxPool)\n",
    "* ResLayer blocks\n",
    "* A classifier block with average Pooling and a Linear Layer\n",
    "\n",
    "\n",
    "Design:\n",
    "\n",
    "* Downsamplimg is done with stride=2\n"
   ]
  },
  {
   "cell_type": "code",
   "execution_count": 5,
   "metadata": {
    "id": "Sp-G8GaBd_dN"
   },
   "outputs": [],
   "source": [
    "class ResBlock(nn.Module):\n",
    "  def __init__(self,in_ch,out_ch,stride,identity_resize=None):\n",
    "    super().__init__()\n",
    "    self.expansion = 4\n",
    "    self.conv1 = nn.Conv2d(in_channels=in_ch,out_channels=out_ch,kernel_size=1)\n",
    "    self.bn1 = nn.BatchNorm2d(num_features=out_ch)\n",
    "    self.conv2 = nn.Conv2d(in_channels=out_ch,out_channels=out_ch,kernel_size=3,padding=1,stride=stride)\n",
    "    self.bn2 = nn.BatchNorm2d(num_features=out_ch)\n",
    "    self.conv3 = nn.Conv2d(in_channels=out_ch,out_channels=out_ch*self.expansion,kernel_size=1,padding=0)\n",
    "    self.bn3 = nn.BatchNorm2d(num_features=out_ch*self.expansion)\n",
    "    # sometimes we have to resize feature map before adding\n",
    "    self.identity_resize = identity_resize\n",
    "\n",
    "  def forward(self,x):\n",
    "    identity = x\n",
    "    out = self.conv1(x)\n",
    "    out = F.relu(self.bn1(out))\n",
    "    out = self.conv2(x)\n",
    "    out = F.relu(self.bn2(out))\n",
    "    out = self.conv3(out)\n",
    "    out = F.relu(self.bn2(out))\n",
    "\n",
    "    if self.identity_resize is not None:\n",
    "      identity = self.identity_resize(x)\n",
    "    \n",
    "    out += identity\n",
    "    out = F.relu(out)\n",
    "    return out"
   ]
  },
  {
   "cell_type": "code",
   "execution_count": null,
   "metadata": {
    "id": "eZsGlWKlMT9a"
   },
   "outputs": [],
   "source": []
  },
  {
   "cell_type": "code",
   "execution_count": null,
   "metadata": {
    "id": "tgAXSbN9QwJW"
   },
   "outputs": [],
   "source": []
  },
  {
   "cell_type": "code",
   "execution_count": null,
   "metadata": {
    "id": "cUsnOQzqQwNT"
   },
   "outputs": [],
   "source": []
  }
 ],
 "metadata": {
  "colab": {
   "name": "resnet.ipynb",
   "provenance": []
  },
  "kernelspec": {
   "display_name": "Python 3",
   "language": "python",
   "name": "python3"
  },
  "language_info": {
   "codemirror_mode": {
    "name": "ipython",
    "version": 3
   },
   "file_extension": ".py",
   "mimetype": "text/x-python",
   "name": "python",
   "nbconvert_exporter": "python",
   "pygments_lexer": "ipython3",
   "version": "3.7.4"
  }
 },
 "nbformat": 4,
 "nbformat_minor": 1
}
